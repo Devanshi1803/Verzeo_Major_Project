{
 "cells": [
  {
   "cell_type": "markdown",
   "metadata": {},
   "source": [
    "# Major Project\n",
    "One needs to work on Ensemble Learning (modeling) for a given problem. <br>\n",
    "Problem Statement: For a given dataset (problem) which is the best classification algorithm (as per accuracy)\n",
    "\n",
    "Pick up a dataset of your choice or the one attached with mail (Preferable) <br>\n",
    "Ask any two questions on the dataset of your choice and provide answers for the same. \n",
    "\n",
    "For instance for the given dataset questions can be as follows.\n",
    "\n",
    ">Q1) What are the most common emotions/words used by Males and Females? <br>\n",
    " Q2) Which gender makes more typos in their tweets?\n",
    "\n",
    "Take up <b>three classification algorithms </b> of your own choice and build <b>three respective Machine learning models.</b><br> <b>Compare the Accuracy </b>of all three and suggest <b>which ML algorithms suits best </b> for the given problem.\n",
    " \n",
    "\n",
    "NOTE  : For the given dataset <b>\"Gender\"</b>  will be your dependent variable.\n",
    "\n",
    "---\n",
    "\n",
    "Evaluation will be done on following points:\n",
    "\n",
    "1. Exploratory data analysis (with visualization) and Data Cleaning if required \n",
    "2. Questions asked on dataset and answers for the same with brief explanation  \n",
    "3. Feature Selection and feature Engineering if required depending on the dataset\n",
    "4. Ensemble Machine learning Modelling (3 Classification Algorithms)\n",
    "5. Accuracy calculation \n",
    "6. Summarised write up at the end \n"
   ]
  },
  {
   "cell_type": "code",
   "execution_count": 1,
   "metadata": {},
   "outputs": [],
   "source": [
    "#Importing libraries\n",
    "\n",
    "import pandas as pd\n",
    "import numpy as np"
   ]
  },
  {
   "cell_type": "code",
   "execution_count": 2,
   "metadata": {},
   "outputs": [],
   "source": [
    "#Reading csv\n",
    "\n",
    "df=pd.read_csv(\"Information.csv\", encoding = \"ISO-8859-1\", index_col=0)"
   ]
  },
  {
   "cell_type": "markdown",
   "metadata": {},
   "source": [
    "# Exploratory data analysis (with visualization) and Data Cleaning if required"
   ]
  },
  {
   "cell_type": "markdown",
   "metadata": {},
   "source": [
    "### EDA"
   ]
  },
  {
   "cell_type": "code",
   "execution_count": 3,
   "metadata": {},
   "outputs": [
    {
     "data": {
      "text/html": [
       "<div>\n",
       "<style scoped>\n",
       "    .dataframe tbody tr th:only-of-type {\n",
       "        vertical-align: middle;\n",
       "    }\n",
       "\n",
       "    .dataframe tbody tr th {\n",
       "        vertical-align: top;\n",
       "    }\n",
       "\n",
       "    .dataframe thead th {\n",
       "        text-align: right;\n",
       "    }\n",
       "</style>\n",
       "<table border=\"1\" class=\"dataframe\">\n",
       "  <thead>\n",
       "    <tr style=\"text-align: right;\">\n",
       "      <th></th>\n",
       "      <th>_golden</th>\n",
       "      <th>_unit_state</th>\n",
       "      <th>_trusted_judgments</th>\n",
       "      <th>_last_judgment_at</th>\n",
       "      <th>gender</th>\n",
       "      <th>gender:confidence</th>\n",
       "      <th>profile_yn</th>\n",
       "      <th>profile_yn:confidence</th>\n",
       "      <th>created</th>\n",
       "      <th>description</th>\n",
       "      <th>...</th>\n",
       "      <th>profileimage</th>\n",
       "      <th>retweet_count</th>\n",
       "      <th>sidebar_color</th>\n",
       "      <th>text</th>\n",
       "      <th>tweet_coord</th>\n",
       "      <th>tweet_count</th>\n",
       "      <th>tweet_created</th>\n",
       "      <th>tweet_id</th>\n",
       "      <th>tweet_location</th>\n",
       "      <th>user_timezone</th>\n",
       "    </tr>\n",
       "    <tr>\n",
       "      <th>_unit_id</th>\n",
       "      <th></th>\n",
       "      <th></th>\n",
       "      <th></th>\n",
       "      <th></th>\n",
       "      <th></th>\n",
       "      <th></th>\n",
       "      <th></th>\n",
       "      <th></th>\n",
       "      <th></th>\n",
       "      <th></th>\n",
       "      <th></th>\n",
       "      <th></th>\n",
       "      <th></th>\n",
       "      <th></th>\n",
       "      <th></th>\n",
       "      <th></th>\n",
       "      <th></th>\n",
       "      <th></th>\n",
       "      <th></th>\n",
       "      <th></th>\n",
       "      <th></th>\n",
       "    </tr>\n",
       "  </thead>\n",
       "  <tbody>\n",
       "    <tr>\n",
       "      <th>815719226</th>\n",
       "      <td>False</td>\n",
       "      <td>finalized</td>\n",
       "      <td>3</td>\n",
       "      <td>10/26/15 23:24</td>\n",
       "      <td>male</td>\n",
       "      <td>1.0000</td>\n",
       "      <td>yes</td>\n",
       "      <td>1.0</td>\n",
       "      <td>12/5/13 1:48</td>\n",
       "      <td>i sing my own rhythm.</td>\n",
       "      <td>...</td>\n",
       "      <td>https://pbs.twimg.com/profile_images/414342229...</td>\n",
       "      <td>0</td>\n",
       "      <td>FFFFFF</td>\n",
       "      <td>Robbie E Responds To Critics After Win Against...</td>\n",
       "      <td>NaN</td>\n",
       "      <td>110964</td>\n",
       "      <td>10/26/15 12:40</td>\n",
       "      <td>6.587300e+17</td>\n",
       "      <td>main; @Kan1shk3</td>\n",
       "      <td>Chennai</td>\n",
       "    </tr>\n",
       "    <tr>\n",
       "      <th>815719227</th>\n",
       "      <td>False</td>\n",
       "      <td>finalized</td>\n",
       "      <td>3</td>\n",
       "      <td>10/26/15 23:30</td>\n",
       "      <td>male</td>\n",
       "      <td>1.0000</td>\n",
       "      <td>yes</td>\n",
       "      <td>1.0</td>\n",
       "      <td>10/1/12 13:51</td>\n",
       "      <td>I'm the author of novels filled with family dr...</td>\n",
       "      <td>...</td>\n",
       "      <td>https://pbs.twimg.com/profile_images/539604221...</td>\n",
       "      <td>0</td>\n",
       "      <td>C0DEED</td>\n",
       "      <td>ÛÏIt felt like they were my friends and I was...</td>\n",
       "      <td>NaN</td>\n",
       "      <td>7471</td>\n",
       "      <td>10/26/15 12:40</td>\n",
       "      <td>6.587300e+17</td>\n",
       "      <td>NaN</td>\n",
       "      <td>Eastern Time (US &amp; Canada)</td>\n",
       "    </tr>\n",
       "    <tr>\n",
       "      <th>815719228</th>\n",
       "      <td>False</td>\n",
       "      <td>finalized</td>\n",
       "      <td>3</td>\n",
       "      <td>10/26/15 23:33</td>\n",
       "      <td>male</td>\n",
       "      <td>0.6625</td>\n",
       "      <td>yes</td>\n",
       "      <td>1.0</td>\n",
       "      <td>11/28/14 11:30</td>\n",
       "      <td>louis whining and squealing and all</td>\n",
       "      <td>...</td>\n",
       "      <td>https://pbs.twimg.com/profile_images/657330418...</td>\n",
       "      <td>1</td>\n",
       "      <td>C0DEED</td>\n",
       "      <td>i absolutely adore when louis starts the songs...</td>\n",
       "      <td>NaN</td>\n",
       "      <td>5617</td>\n",
       "      <td>10/26/15 12:40</td>\n",
       "      <td>6.587300e+17</td>\n",
       "      <td>clcncl</td>\n",
       "      <td>Belgrade</td>\n",
       "    </tr>\n",
       "    <tr>\n",
       "      <th>815719229</th>\n",
       "      <td>False</td>\n",
       "      <td>finalized</td>\n",
       "      <td>3</td>\n",
       "      <td>10/26/15 23:10</td>\n",
       "      <td>male</td>\n",
       "      <td>1.0000</td>\n",
       "      <td>yes</td>\n",
       "      <td>1.0</td>\n",
       "      <td>6/11/09 22:39</td>\n",
       "      <td>Mobile guy.  49ers, Shazam, Google, Kleiner Pe...</td>\n",
       "      <td>...</td>\n",
       "      <td>https://pbs.twimg.com/profile_images/259703936...</td>\n",
       "      <td>0</td>\n",
       "      <td>C0DEED</td>\n",
       "      <td>Hi @JordanSpieth - Looking at the url - do you...</td>\n",
       "      <td>NaN</td>\n",
       "      <td>1693</td>\n",
       "      <td>10/26/15 12:40</td>\n",
       "      <td>6.587300e+17</td>\n",
       "      <td>Palo Alto, CA</td>\n",
       "      <td>Pacific Time (US &amp; Canada)</td>\n",
       "    </tr>\n",
       "    <tr>\n",
       "      <th>815719230</th>\n",
       "      <td>False</td>\n",
       "      <td>finalized</td>\n",
       "      <td>3</td>\n",
       "      <td>10/27/15 1:15</td>\n",
       "      <td>female</td>\n",
       "      <td>1.0000</td>\n",
       "      <td>yes</td>\n",
       "      <td>1.0</td>\n",
       "      <td>4/16/14 13:23</td>\n",
       "      <td>Ricky Wilson The Best FRONTMAN/Kaiser Chiefs T...</td>\n",
       "      <td>...</td>\n",
       "      <td>https://pbs.twimg.com/profile_images/564094871...</td>\n",
       "      <td>0</td>\n",
       "      <td>0</td>\n",
       "      <td>Watching Neighbours on Sky+ catching up with t...</td>\n",
       "      <td>NaN</td>\n",
       "      <td>31462</td>\n",
       "      <td>10/26/15 12:40</td>\n",
       "      <td>6.587300e+17</td>\n",
       "      <td>NaN</td>\n",
       "      <td>NaN</td>\n",
       "    </tr>\n",
       "  </tbody>\n",
       "</table>\n",
       "<p>5 rows × 25 columns</p>\n",
       "</div>"
      ],
      "text/plain": [
       "           _golden _unit_state  _trusted_judgments _last_judgment_at  gender  \\\n",
       "_unit_id                                                                       \n",
       "815719226    False   finalized                   3    10/26/15 23:24    male   \n",
       "815719227    False   finalized                   3    10/26/15 23:30    male   \n",
       "815719228    False   finalized                   3    10/26/15 23:33    male   \n",
       "815719229    False   finalized                   3    10/26/15 23:10    male   \n",
       "815719230    False   finalized                   3     10/27/15 1:15  female   \n",
       "\n",
       "           gender:confidence profile_yn  profile_yn:confidence  \\\n",
       "_unit_id                                                         \n",
       "815719226             1.0000        yes                    1.0   \n",
       "815719227             1.0000        yes                    1.0   \n",
       "815719228             0.6625        yes                    1.0   \n",
       "815719229             1.0000        yes                    1.0   \n",
       "815719230             1.0000        yes                    1.0   \n",
       "\n",
       "                  created                                        description  \\\n",
       "_unit_id                                                                       \n",
       "815719226    12/5/13 1:48                              i sing my own rhythm.   \n",
       "815719227   10/1/12 13:51  I'm the author of novels filled with family dr...   \n",
       "815719228  11/28/14 11:30                louis whining and squealing and all   \n",
       "815719229   6/11/09 22:39  Mobile guy.  49ers, Shazam, Google, Kleiner Pe...   \n",
       "815719230   4/16/14 13:23  Ricky Wilson The Best FRONTMAN/Kaiser Chiefs T...   \n",
       "\n",
       "           ...                                       profileimage  \\\n",
       "_unit_id   ...                                                      \n",
       "815719226  ...  https://pbs.twimg.com/profile_images/414342229...   \n",
       "815719227  ...  https://pbs.twimg.com/profile_images/539604221...   \n",
       "815719228  ...  https://pbs.twimg.com/profile_images/657330418...   \n",
       "815719229  ...  https://pbs.twimg.com/profile_images/259703936...   \n",
       "815719230  ...  https://pbs.twimg.com/profile_images/564094871...   \n",
       "\n",
       "          retweet_count sidebar_color  \\\n",
       "_unit_id                                \n",
       "815719226             0        FFFFFF   \n",
       "815719227             0        C0DEED   \n",
       "815719228             1        C0DEED   \n",
       "815719229             0        C0DEED   \n",
       "815719230             0             0   \n",
       "\n",
       "                                                        text tweet_coord  \\\n",
       "_unit_id                                                                   \n",
       "815719226  Robbie E Responds To Critics After Win Against...         NaN   \n",
       "815719227  ÛÏIt felt like they were my friends and I was...         NaN   \n",
       "815719228  i absolutely adore when louis starts the songs...         NaN   \n",
       "815719229  Hi @JordanSpieth - Looking at the url - do you...         NaN   \n",
       "815719230  Watching Neighbours on Sky+ catching up with t...         NaN   \n",
       "\n",
       "          tweet_count   tweet_created      tweet_id   tweet_location  \\\n",
       "_unit_id                                                               \n",
       "815719226      110964  10/26/15 12:40  6.587300e+17  main; @Kan1shk3   \n",
       "815719227        7471  10/26/15 12:40  6.587300e+17              NaN   \n",
       "815719228        5617  10/26/15 12:40  6.587300e+17           clcncl   \n",
       "815719229        1693  10/26/15 12:40  6.587300e+17    Palo Alto, CA   \n",
       "815719230       31462  10/26/15 12:40  6.587300e+17              NaN   \n",
       "\n",
       "                        user_timezone  \n",
       "_unit_id                               \n",
       "815719226                     Chennai  \n",
       "815719227  Eastern Time (US & Canada)  \n",
       "815719228                    Belgrade  \n",
       "815719229  Pacific Time (US & Canada)  \n",
       "815719230                         NaN  \n",
       "\n",
       "[5 rows x 25 columns]"
      ]
     },
     "execution_count": 3,
     "metadata": {},
     "output_type": "execute_result"
    }
   ],
   "source": [
    "df.head()"
   ]
  },
  {
   "cell_type": "code",
   "execution_count": 4,
   "metadata": {},
   "outputs": [
    {
     "name": "stdout",
     "output_type": "stream",
     "text": [
      "<class 'pandas.core.frame.DataFrame'>\n",
      "Int64Index: 20050 entries, 815719226 to 815757985\n",
      "Data columns (total 25 columns):\n",
      " #   Column                 Non-Null Count  Dtype  \n",
      "---  ------                 --------------  -----  \n",
      " 0   _golden                20050 non-null  bool   \n",
      " 1   _unit_state            20050 non-null  object \n",
      " 2   _trusted_judgments     20050 non-null  int64  \n",
      " 3   _last_judgment_at      20000 non-null  object \n",
      " 4   gender                 19953 non-null  object \n",
      " 5   gender:confidence      20024 non-null  float64\n",
      " 6   profile_yn             20050 non-null  object \n",
      " 7   profile_yn:confidence  20050 non-null  float64\n",
      " 8   created                20050 non-null  object \n",
      " 9   description            16306 non-null  object \n",
      " 10  fav_number             20050 non-null  int64  \n",
      " 11  gender_gold            50 non-null     object \n",
      " 12  link_color             20050 non-null  object \n",
      " 13  name                   20050 non-null  object \n",
      " 14  profile_yn_gold        50 non-null     object \n",
      " 15  profileimage           20050 non-null  object \n",
      " 16  retweet_count          20050 non-null  int64  \n",
      " 17  sidebar_color          20050 non-null  object \n",
      " 18  text                   20050 non-null  object \n",
      " 19  tweet_coord            159 non-null    object \n",
      " 20  tweet_count            20050 non-null  int64  \n",
      " 21  tweet_created          20050 non-null  object \n",
      " 22  tweet_id               20050 non-null  float64\n",
      " 23  tweet_location         12566 non-null  object \n",
      " 24  user_timezone          12252 non-null  object \n",
      "dtypes: bool(1), float64(3), int64(4), object(17)\n",
      "memory usage: 3.8+ MB\n"
     ]
    }
   ],
   "source": [
    "df.info()"
   ]
  },
  {
   "cell_type": "code",
   "execution_count": 5,
   "metadata": {},
   "outputs": [
    {
     "data": {
      "text/plain": [
       "Index(['_trusted_judgments', 'gender:confidence', 'profile_yn:confidence',\n",
       "       'fav_number', 'retweet_count', 'tweet_count', 'tweet_id'],\n",
       "      dtype='object')"
      ]
     },
     "execution_count": 5,
     "metadata": {},
     "output_type": "execute_result"
    }
   ],
   "source": [
    "df.describe().columns"
   ]
  },
  {
   "cell_type": "markdown",
   "metadata": {},
   "source": [
    "##### Correlation Matrix using heatmap"
   ]
  },
  {
   "cell_type": "code",
   "execution_count": 6,
   "metadata": {},
   "outputs": [
    {
     "data": {
      "text/plain": [
       "<matplotlib.axes._subplots.AxesSubplot at 0x1fd9d2da160>"
      ]
     },
     "execution_count": 6,
     "metadata": {},
     "output_type": "execute_result"
    },
    {
     "data": {
      "image/png": "[encoded data removed]",
      "text/plain": [
       "<Figure size 432x288 with 2 Axes>"
      ]
     },
     "metadata": {
      "needs_background": "light"
     },
     "output_type": "display_data"
    }
   ],
   "source": [
    "import seaborn as sb\n",
    "sb.heatmap(df.corr(), annot=True)"
   ]
  },
  {
   "cell_type": "markdown",
   "metadata": {},
   "source": [
    "###### Visualization of outliers using box-plot"
   ]
  },
  {
   "cell_type": "code",
   "execution_count": 7,
   "metadata": {},
   "outputs": [
    {
     "data": {
      "text/html": [
       "<div>\n",
       "<style scoped>\n",
       "    .dataframe tbody tr th:only-of-type {\n",
       "        vertical-align: middle;\n",
       "    }\n",
       "\n",
       "    .dataframe tbody tr th {\n",
       "        vertical-align: top;\n",
       "    }\n",
       "\n",
       "    .dataframe thead th {\n",
       "        text-align: right;\n",
       "    }\n",
       "</style>\n",
       "<table border=\"1\" class=\"dataframe\">\n",
       "  <thead>\n",
       "    <tr style=\"text-align: right;\">\n",
       "      <th></th>\n",
       "      <th>_trusted_judgments</th>\n",
       "      <th>gender:confidence</th>\n",
       "      <th>profile_yn:confidence</th>\n",
       "      <th>fav_number</th>\n",
       "      <th>retweet_count</th>\n",
       "      <th>tweet_count</th>\n",
       "      <th>tweet_id</th>\n",
       "    </tr>\n",
       "  </thead>\n",
       "  <tbody>\n",
       "    <tr>\n",
       "      <th>count</th>\n",
       "      <td>20050.000000</td>\n",
       "      <td>20024.000000</td>\n",
       "      <td>20050.000000</td>\n",
       "      <td>20050.000000</td>\n",
       "      <td>20050.000000</td>\n",
       "      <td>2.005000e+04</td>\n",
       "      <td>2.005000e+04</td>\n",
       "    </tr>\n",
       "    <tr>\n",
       "      <th>mean</th>\n",
       "      <td>3.615711</td>\n",
       "      <td>0.882756</td>\n",
       "      <td>0.993221</td>\n",
       "      <td>4382.201646</td>\n",
       "      <td>0.079401</td>\n",
       "      <td>3.892469e+04</td>\n",
       "      <td>6.587350e+17</td>\n",
       "    </tr>\n",
       "    <tr>\n",
       "      <th>std</th>\n",
       "      <td>12.331890</td>\n",
       "      <td>0.191403</td>\n",
       "      <td>0.047168</td>\n",
       "      <td>12518.575919</td>\n",
       "      <td>2.649751</td>\n",
       "      <td>1.168371e+05</td>\n",
       "      <td>5.000124e+12</td>\n",
       "    </tr>\n",
       "    <tr>\n",
       "      <th>min</th>\n",
       "      <td>3.000000</td>\n",
       "      <td>0.000000</td>\n",
       "      <td>0.627200</td>\n",
       "      <td>0.000000</td>\n",
       "      <td>0.000000</td>\n",
       "      <td>1.000000e+00</td>\n",
       "      <td>6.587300e+17</td>\n",
       "    </tr>\n",
       "    <tr>\n",
       "      <th>25%</th>\n",
       "      <td>3.000000</td>\n",
       "      <td>0.677800</td>\n",
       "      <td>1.000000</td>\n",
       "      <td>11.000000</td>\n",
       "      <td>0.000000</td>\n",
       "      <td>2.398000e+03</td>\n",
       "      <td>6.587300e+17</td>\n",
       "    </tr>\n",
       "    <tr>\n",
       "      <th>50%</th>\n",
       "      <td>3.000000</td>\n",
       "      <td>1.000000</td>\n",
       "      <td>1.000000</td>\n",
       "      <td>456.000000</td>\n",
       "      <td>0.000000</td>\n",
       "      <td>1.144150e+04</td>\n",
       "      <td>6.587300e+17</td>\n",
       "    </tr>\n",
       "    <tr>\n",
       "      <th>75%</th>\n",
       "      <td>3.000000</td>\n",
       "      <td>1.000000</td>\n",
       "      <td>1.000000</td>\n",
       "      <td>3315.500000</td>\n",
       "      <td>0.000000</td>\n",
       "      <td>4.002750e+04</td>\n",
       "      <td>6.587400e+17</td>\n",
       "    </tr>\n",
       "    <tr>\n",
       "      <th>max</th>\n",
       "      <td>274.000000</td>\n",
       "      <td>1.000000</td>\n",
       "      <td>1.000000</td>\n",
       "      <td>341621.000000</td>\n",
       "      <td>330.000000</td>\n",
       "      <td>2.680199e+06</td>\n",
       "      <td>6.587400e+17</td>\n",
       "    </tr>\n",
       "  </tbody>\n",
       "</table>\n",
       "</div>"
      ],
      "text/plain": [
       "       _trusted_judgments  gender:confidence  profile_yn:confidence  \\\n",
       "count        20050.000000       20024.000000           20050.000000   \n",
       "mean             3.615711           0.882756               0.993221   \n",
       "std             12.331890           0.191403               0.047168   \n",
       "min              3.000000           0.000000               0.627200   \n",
       "25%              3.000000           0.677800               1.000000   \n",
       "50%              3.000000           1.000000               1.000000   \n",
       "75%              3.000000           1.000000               1.000000   \n",
       "max            274.000000           1.000000               1.000000   \n",
       "\n",
       "          fav_number  retweet_count   tweet_count      tweet_id  \n",
       "count   20050.000000   20050.000000  2.005000e+04  2.005000e+04  \n",
       "mean     4382.201646       0.079401  3.892469e+04  6.587350e+17  \n",
       "std     12518.575919       2.649751  1.168371e+05  5.000124e+12  \n",
       "min         0.000000       0.000000  1.000000e+00  6.587300e+17  \n",
       "25%        11.000000       0.000000  2.398000e+03  6.587300e+17  \n",
       "50%       456.000000       0.000000  1.144150e+04  6.587300e+17  \n",
       "75%      3315.500000       0.000000  4.002750e+04  6.587400e+17  \n",
       "max    341621.000000     330.000000  2.680199e+06  6.587400e+17  "
      ]
     },
     "execution_count": 7,
     "metadata": {},
     "output_type": "execute_result"
    }
   ],
   "source": [
    "df.describe()\n",
    "\n",
    "## Outliers that are present in some columns are visualized using boxplot"
   ]
  },
  {
   "cell_type": "code",
   "execution_count": 8,
   "metadata": {},
   "outputs": [
    {
     "data": {
      "image/png": "[encoded data removed]",
      "text/plain": [
       "<Figure size 576x720 with 1 Axes>"
      ]
     },
     "metadata": {
      "needs_background": "light"
     },
     "output_type": "display_data"
    }
   ],
   "source": [
    "boxplot = df.boxplot(column=[\"fav_number\", \"retweet_count\",'tweet_count', \"_trusted_judgments\"], grid=True, rot=45, fontsize=15, figsize=(8,10))"
   ]
  },
  {
   "cell_type": "markdown",
   "metadata": {},
   "source": [
    "### Normalizing all data between 0 and 1"
   ]
  },
  {
   "cell_type": "code",
   "execution_count": 9,
   "metadata": {},
   "outputs": [],
   "source": [
    "df[\"tweet_count\"]=((df[\"tweet_count\"]-df[\"tweet_count\"].min())/(df[\"tweet_count\"].max()-df[\"tweet_count\"].min()))*1\n",
    "df[\"retweet_count\"]=((df[\"retweet_count\"]-df[\"retweet_count\"].min())/(df[\"retweet_count\"].max()-df[\"retweet_count\"].min()))*1"
   ]
  },
  {
   "cell_type": "markdown",
   "metadata": {},
   "source": [
    "# **Questions asked on dataset and answers for the same with brief explanation**"
   ]
  },
  {
   "cell_type": "markdown",
   "metadata": {},
   "source": [
    "## Question  - Which gender makes more typos? <br>\n",
    "#### <b> Answer </b> : From the analysis, it's seen that MALES make more typos than females.\n",
    "\n",
    "Explanation : <br>\n",
    "1. Lower the text\n",
    "2. Remove Stop Words\n",
    "3. Remove Punctuations\n",
    "4. Remove new line characters\n",
    "5. Remove @Users\n"
   ]
  },
  {
   "cell_type": "code",
   "execution_count": 10,
   "metadata": {},
   "outputs": [],
   "source": [
    "import nltk\n",
    "# nltk.download()"
   ]
  },
  {
   "cell_type": "code",
   "execution_count": 11,
   "metadata": {},
   "outputs": [],
   "source": [
    "from nltk.tokenize import word_tokenize\n",
    "from nltk.corpus import stopwords\n",
    "stop_words = list(stopwords.words(\"english\"))"
   ]
  },
  {
   "cell_type": "code",
   "execution_count": 12,
   "metadata": {},
   "outputs": [],
   "source": [
    "clean_sentence=[]\n",
    "import re \n",
    "import string\n",
    "user_re = re.compile('@\\s*\\S*')\n",
    "\n",
    "for i in range(df.shape[0]):\n",
    "    current_tweet = str(df['text'].values[i])\n",
    "    \n",
    "    # Lower\n",
    "    current_tweet = current_tweet.lower()     \n",
    "    \n",
    "    # Remove punctations\n",
    "    current_tweet=current_tweet.translate(str.maketrans(\"\",\"\",string.punctuation))\n",
    "    \n",
    "    # Remove the new line character\n",
    "    current_tweet=current_tweet.replace(\"\\n\",\"\")\n",
    "\n",
    "    # Check @ Users\n",
    "    users = user_re.findall(current_tweet)\n",
    "    users = [words for segments in users for words in segments.split()]\n",
    "    \n",
    "    tokenized_words = word_tokenize(current_tweet)\n",
    "    clean_text = '';\n",
    "    for word in tokenized_words:\n",
    "        if  not(word in stop_words) and not(word in users):\n",
    "            clean_text += word + ' '\n",
    "    clean_sentence.append(clean_text)\n",
    "    \n",
    "df[\"text\"] = clean_sentence"
   ]
  },
  {
   "cell_type": "code",
   "execution_count": 13,
   "metadata": {},
   "outputs": [],
   "source": [
    "from sklearn.feature_extraction.text import CountVectorizer"
   ]
  },
  {
   "cell_type": "code",
   "execution_count": 14,
   "metadata": {},
   "outputs": [],
   "source": [
    "# Initializing one-hot vector\n",
    "cv = CountVectorizer()\n",
    "\n",
    "male_matrix = cv.fit_transform(list(df[df['gender'] == \"male\"].text))\n",
    "freqs_male = zip(cv.get_feature_names(), male_matrix.sum(axis=0).tolist()[0])\n",
    "res_male= sorted(freqs_male, key=lambda x: -x[1])\n",
    "\n",
    "female_matrix = cv.fit_transform(list(df[df['gender'] == \"female\"].text))\n",
    "freqs_female = zip(cv.get_feature_names(), female_matrix.sum(axis=0).tolist()[0])\n",
    "res_female= sorted(freqs_female, key=lambda x: -x[1])\n",
    "\n",
    "female_list = list(res[0] for res in res_female)\n",
    "male_list = list(res[0] for res in res_male)\n",
    "\n",
    "#print(res_male)"
   ]
  },
  {
   "cell_type": "code",
   "execution_count": 15,
   "metadata": {},
   "outputs": [],
   "source": [
    "## use pip install pyspellchecker\n",
    "from spellchecker import SpellChecker"
   ]
  },
  {
   "cell_type": "code",
   "execution_count": 16,
   "metadata": {},
   "outputs": [
    {
     "name": "stdout",
     "output_type": "stream",
     "text": [
      "Total Words written by Female\t: 18072\n",
      "Misspelled Words by Female\t: 8814\n",
      "Missplelled Ratio\t\t: 2.05037\n",
      "\n",
      "=========================\n",
      "\n",
      "Total Words written by Male\t: 19384\n",
      "Misspelled Words by Male\t: 9305\n",
      "Missplelled Ratio\t\t: 2.08318\n"
     ]
    }
   ],
   "source": [
    "spell = SpellChecker()\n",
    "misspelled = spell.unknown(female_list)\n",
    "print(\"Total Words written by Female\\t: \"+ str(len(female_list)))\n",
    "print(\"Misspelled Words by Female\\t: \"+ str(len(misspelled)))\n",
    "print(\"Missplelled Ratio\\t\\t: \"+ str(round(len(female_list)/len(misspelled),5)))\n",
    "\n",
    "print(\"\")\n",
    "print(\"=========================\")\n",
    "print(\"\")\n",
    "\n",
    "spell = SpellChecker()\n",
    "misspelled = spell.unknown(male_list)\n",
    "print(\"Total Words written by Male\\t: \"+ str(len(male_list)))\n",
    "print(\"Misspelled Words by Male\\t: \"+ str(len(misspelled)))\n",
    "print(\"Missplelled Ratio\\t\\t: \"+ str(round(len(male_list)/len(misspelled),5)))"
   ]
  },
  {
   "cell_type": "markdown",
   "metadata": {},
   "source": [
    "### 1. Visualization"
   ]
  },
  {
   "cell_type": "code",
   "execution_count": 17,
   "metadata": {},
   "outputs": [],
   "source": [
    "import matplotlib.pyplot as plt"
   ]
  },
  {
   "cell_type": "code",
   "execution_count": 18,
   "metadata": {},
   "outputs": [
    {
     "data": {
      "image/png": "[encoded data removed]",
      "text/plain": [
       "<Figure size 432x288 with 1 Axes>"
      ]
     },
     "metadata": {
      "needs_background": "light"
     },
     "output_type": "display_data"
    }
   ],
   "source": [
    "x=[\"Female\", \"Male\"]\n",
    "y=[2.05037, 2.08318]\n",
    "\n",
    "#Setting y limits for better visualization\n",
    "plt.ylim(2,2.5) \n",
    "\n",
    "plt.bar(x,y)\n",
    "\n",
    "\n",
    "plt.xlabel(\"Gender\")\n",
    "plt.xlabel(\"Misspell ratio\")\n",
    "plt.title(\"Misspell ratio\")\n",
    "plt.show()"
   ]
  },
  {
   "cell_type": "markdown",
   "metadata": {},
   "source": [
    "### Based on graphs, the gender that it more likely to make typos is - Male"
   ]
  },
  {
   "cell_type": "markdown",
   "metadata": {},
   "source": [
    "# Question  - What are the most common emotions/words used by Males and Females?\n",
    "\n",
    "####  <b>Answer </b> :\n",
    "###### Males: im, get,like,one,dont,time,new <br>  Females: im,\tlike,get, one, love,day,dont\n",
    "### *Explanation:* <br>\n",
    "1. Fetch Columns of interest\n",
    "2. Clean data of unwanted values\n",
    "3. Change index to \"gender\"\n",
    "4. Subset rows with \"males\" and later \"females\" \n",
    "5. Initialize count vectorizer to count number of words (limit stopwords and strings such as http...)\n",
    "6. Compute IDF values. Common words have lower IDF"
   ]
  },
  {
   "cell_type": "markdown",
   "metadata": {},
   "source": [
    "### *To check common words, we need gender as well as text column*"
   ]
  },
  {
   "cell_type": "code",
   "execution_count": 19,
   "metadata": {},
   "outputs": [],
   "source": [
    "#Step 1: Fetch Columns of interest\n",
    "#Columns of interest with target \n",
    "df1=df[[\"text\", \"gender\" ]] "
   ]
  },
  {
   "cell_type": "code",
   "execution_count": 20,
   "metadata": {},
   "outputs": [
    {
     "name": "stdout",
     "output_type": "stream",
     "text": [
      "<class 'pandas.core.frame.DataFrame'>\n",
      "Int64Index: 20050 entries, 815719226 to 815757985\n",
      "Data columns (total 2 columns):\n",
      " #   Column  Non-Null Count  Dtype \n",
      "---  ------  --------------  ----- \n",
      " 0   text    20050 non-null  object\n",
      " 1   gender  19953 non-null  object\n",
      "dtypes: object(2)\n",
      "memory usage: 469.9+ KB\n"
     ]
    }
   ],
   "source": [
    "df1.info()\n",
    "#its found there are missing values in gender"
   ]
  },
  {
   "cell_type": "code",
   "execution_count": 21,
   "metadata": {},
   "outputs": [
    {
     "name": "stderr",
     "output_type": "stream",
     "text": [
      "C:\\ProgramData\\Anaconda3\\lib\\site-packages\\pandas\\core\\generic.py:6746: SettingWithCopyWarning: \n",
      "A value is trying to be set on a copy of a slice from a DataFrame\n",
      "\n",
      "See the caveats in the documentation: https://pandas.pydata.org/pandas-docs/stable/user_guide/indexing.html#returning-a-view-versus-a-copy\n",
      "  self._update_inplace(new_data)\n"
     ]
    }
   ],
   "source": [
    "#Step 2: Clean data of unwanted values\n",
    "\n",
    "df1['gender'].replace('brand', np.nan, inplace=True) #replaces with np.nan\n",
    "df1['gender'].replace('unknown', np.nan, inplace=True) #replaces with np.nan\n",
    "df1=df1.dropna()\n",
    "\n",
    "#Label encoding gender\n",
    "from sklearn.preprocessing import LabelEncoder\n",
    "le=LabelEncoder()\n",
    "df1[\"Gender_encoded\"]=le.fit_transform(df1['gender']) #male=1, female =0"
   ]
  },
  {
   "cell_type": "code",
   "execution_count": 22,
   "metadata": {},
   "outputs": [
    {
     "data": {
      "text/html": [
       "<div>\n",
       "<style scoped>\n",
       "    .dataframe tbody tr th:only-of-type {\n",
       "        vertical-align: middle;\n",
       "    }\n",
       "\n",
       "    .dataframe tbody tr th {\n",
       "        vertical-align: top;\n",
       "    }\n",
       "\n",
       "    .dataframe thead th {\n",
       "        text-align: right;\n",
       "    }\n",
       "</style>\n",
       "<table border=\"1\" class=\"dataframe\">\n",
       "  <thead>\n",
       "    <tr style=\"text-align: right;\">\n",
       "      <th></th>\n",
       "      <th>text</th>\n",
       "      <th>gender</th>\n",
       "      <th>Gender_encoded</th>\n",
       "    </tr>\n",
       "    <tr>\n",
       "      <th>_unit_id</th>\n",
       "      <th></th>\n",
       "      <th></th>\n",
       "      <th></th>\n",
       "    </tr>\n",
       "  </thead>\n",
       "  <tbody>\n",
       "    <tr>\n",
       "      <th>815719226</th>\n",
       "      <td>robbie e responds critics win eddie edwards wo...</td>\n",
       "      <td>male</td>\n",
       "      <td>1</td>\n",
       "    </tr>\n",
       "    <tr>\n",
       "      <th>815719227</th>\n",
       "      <td>ûïit felt like friends living story themû h...</td>\n",
       "      <td>male</td>\n",
       "      <td>1</td>\n",
       "    </tr>\n",
       "    <tr>\n",
       "      <th>815719228</th>\n",
       "      <td>absolutely adore louis starts songs hits hard ...</td>\n",
       "      <td>male</td>\n",
       "      <td>1</td>\n",
       "    </tr>\n",
       "    <tr>\n",
       "      <th>815719229</th>\n",
       "      <td>hi jordanspieth looking url use ifttt dont typ...</td>\n",
       "      <td>male</td>\n",
       "      <td>1</td>\n",
       "    </tr>\n",
       "    <tr>\n",
       "      <th>815719230</th>\n",
       "      <td>watching neighbours sky catching neighbs xxx ù...</td>\n",
       "      <td>female</td>\n",
       "      <td>0</td>\n",
       "    </tr>\n",
       "  </tbody>\n",
       "</table>\n",
       "</div>"
      ],
      "text/plain": [
       "                                                        text  gender  \\\n",
       "_unit_id                                                               \n",
       "815719226  robbie e responds critics win eddie edwards wo...    male   \n",
       "815719227  ûïit felt like friends living story themû h...    male   \n",
       "815719228  absolutely adore louis starts songs hits hard ...    male   \n",
       "815719229  hi jordanspieth looking url use ifttt dont typ...    male   \n",
       "815719230  watching neighbours sky catching neighbs xxx ù...  female   \n",
       "\n",
       "           Gender_encoded  \n",
       "_unit_id                   \n",
       "815719226               1  \n",
       "815719227               1  \n",
       "815719228               1  \n",
       "815719229               1  \n",
       "815719230               0  "
      ]
     },
     "execution_count": 22,
     "metadata": {},
     "output_type": "execute_result"
    }
   ],
   "source": [
    "df1.head()"
   ]
  },
  {
   "cell_type": "markdown",
   "metadata": {},
   "source": [
    "#### Question 2 Part 1: To find the common words used by MALES"
   ]
  },
  {
   "cell_type": "code",
   "execution_count": 23,
   "metadata": {},
   "outputs": [],
   "source": [
    "#Step 3: Change index to \"gender\"\n",
    "\n",
    "#First, we change the index to \"gender\" and assign it to another dataframe called \"df2\"\n",
    "#New dataframe is assigned because we need df1 again to answer the second part of this question\n",
    "df2=df1.set_index(\"gender\")"
   ]
  },
  {
   "cell_type": "code",
   "execution_count": 24,
   "metadata": {},
   "outputs": [
    {
     "data": {
      "text/html": [
       "<div>\n",
       "<style scoped>\n",
       "    .dataframe tbody tr th:only-of-type {\n",
       "        vertical-align: middle;\n",
       "    }\n",
       "\n",
       "    .dataframe tbody tr th {\n",
       "        vertical-align: top;\n",
       "    }\n",
       "\n",
       "    .dataframe thead th {\n",
       "        text-align: right;\n",
       "    }\n",
       "</style>\n",
       "<table border=\"1\" class=\"dataframe\">\n",
       "  <thead>\n",
       "    <tr style=\"text-align: right;\">\n",
       "      <th></th>\n",
       "      <th>text</th>\n",
       "    </tr>\n",
       "    <tr>\n",
       "      <th>gender</th>\n",
       "      <th></th>\n",
       "    </tr>\n",
       "  </thead>\n",
       "  <tbody>\n",
       "    <tr>\n",
       "      <th>male</th>\n",
       "      <td>robbie e responds critics win eddie edwards wo...</td>\n",
       "    </tr>\n",
       "    <tr>\n",
       "      <th>male</th>\n",
       "      <td>ûïit felt like friends living story themû h...</td>\n",
       "    </tr>\n",
       "    <tr>\n",
       "      <th>male</th>\n",
       "      <td>absolutely adore louis starts songs hits hard ...</td>\n",
       "    </tr>\n",
       "    <tr>\n",
       "      <th>male</th>\n",
       "      <td>hi jordanspieth looking url use ifttt dont typ...</td>\n",
       "    </tr>\n",
       "    <tr>\n",
       "      <th>male</th>\n",
       "      <td>gala bingo clubs bought å£241m uks largest hig...</td>\n",
       "    </tr>\n",
       "  </tbody>\n",
       "</table>\n",
       "</div>"
      ],
      "text/plain": [
       "                                                     text\n",
       "gender                                                   \n",
       "male    robbie e responds critics win eddie edwards wo...\n",
       "male    ûïit felt like friends living story themû h...\n",
       "male    absolutely adore louis starts songs hits hard ...\n",
       "male    hi jordanspieth looking url use ifttt dont typ...\n",
       "male    gala bingo clubs bought å£241m uks largest hig..."
      ]
     },
     "execution_count": 24,
     "metadata": {},
     "output_type": "execute_result"
    }
   ],
   "source": [
    "#Step 4. Subset rows with \"males\" and later \"females\" \n",
    "\n",
    "#We subset only those \"male\" rows\n",
    "dfm=df2.loc[[\"male\"],[\"text\"]]\n",
    "dfm.head()"
   ]
  },
  {
   "cell_type": "code",
   "execution_count": 25,
   "metadata": {},
   "outputs": [],
   "source": [
    "#Importing stopwords\n",
    "\n",
    "from nltk.corpus import stopwords\n",
    "list_of_stopwords=list(stopwords.words('english')) #To filter out stopwords from 'text'"
   ]
  },
  {
   "cell_type": "code",
   "execution_count": 26,
   "metadata": {},
   "outputs": [
    {
     "name": "stdout",
     "output_type": "stream",
     "text": [
      "Top 25 most commonly used words used by males:          idf_weights\n",
      "im         3.823415\n",
      "get        3.938484\n",
      "like       3.956946\n",
      "one        4.218069\n",
      "dont       4.238436\n",
      "time       4.365522\n",
      "new        4.379640\n",
      "love       4.438193\n",
      "go         4.458498\n",
      "people     4.511142\n",
      "got        4.516562\n",
      "know       4.555348\n",
      "good       4.566712\n",
      "day        4.572442\n",
      "see        4.656324\n",
      "think      4.701060\n",
      "back       4.747891\n",
      "best       4.754764\n",
      "make       4.768653\n",
      "still      4.804244\n",
      "would      4.811517\n",
      "need       4.841149\n",
      "want       4.903184\n",
      "amp        4.935707\n",
      "last       4.952374\n"
     ]
    }
   ],
   "source": [
    "#Step 5. Initialize count vectorizer to count number of words (limit stopwords and strings such as http...)\n",
    "\n",
    "from sklearn.feature_extraction.text import TfidfTransformer \n",
    "#TF-IDF is a statistical measure that evaluates how relevant a word is to a document in a collection of documents #For reference\n",
    "from sklearn.feature_extraction.text import CountVectorizer\n",
    "#to convert text to a matrix and counts the occurence\n",
    "cv = CountVectorizer(stop_words=[\"https\", \"co\", \"_ù\", 'i',\n",
    "\"i\", \"me\", \"my\", \"myself\", \"we\", \"our\", \"ours\", \"ourselves\", \"you\", \"your\", \"yours\", \"yourself\", \"yourselves\", \"he\", \"him\", \"his\", \"himself\", \"she\", \"her\", \"hers\", \"herself\", \"it\", \"its\", \"itself\", \"they\", \"them\", \"their\", \"theirs\", \"themselves\", \"what\", \"which\", \"who\", \"whom\", \"this\", \"that\", \"these\", \"those\", \"am\", \"is\", \"are\", \"was\", \"were\", \"be\", \"been\", \"being\", \"have\", \"has\", \"had\", \"having\", \"do\", \"does\", \"did\", \"doing\", \"a\", \"an\", \"the\", \"and\", \"but\", \"if\", \"or\", \"because\", \"as\", \"until\", \"while\", \"of\", \"at\", \"by\", \"for\", \"with\", \"about\", \"against\", \"between\", \"into\", \"through\", \"during\", \"before\", \"after\", \"above\", \"below\", \"to\", \"from\", \"up\", \"down\", \"in\", \"out\", \"on\", \"off\", \"over\", \"under\", \"again\", \"further\", \"then\", \"once\", \"here\", \"there\", \"when\", \"where\", \"why\", \"how\", \"all\", \"any\", \"both\", \"each\", \"few\", \"more\", \"most\", \"other\", \"some\", \"such\", \"no\", \"nor\", \"not\", \"only\", \"own\", \"same\", \"so\", \"than\", \"too\", \"very\", \"s\", \"t\", \"can\", \"will\", \"just\", \"don\", \"should\", \"now\"])\n",
    "listoftext=list(dfm['text'])\n",
    "\n",
    "#counts every word in listoftext\n",
    "word_count_vector=cv.fit_transform(listoftext) \n",
    "\n",
    "#compute tf-df--> commonly used words have lower score/ weight\n",
    "tfidf_transformer=TfidfTransformer(smooth_idf=True,use_idf=True) \n",
    "tfidf_transformer.fit(word_count_vector) \n",
    "\n",
    "#store the values in a new dataframe dfm_idf\n",
    "df_idf = pd.DataFrame(tfidf_transformer.idf_, index=cv.get_feature_names(),columns=[\"idf_weights\"]) \n",
    "\n",
    "#sort the values in ascending order, since commonly used words have lessweight\n",
    "df_idf1=df_idf.sort_values(by=['idf_weights'], ascending= True)\n",
    "print(\"Top 25 most commonly used words used by males: \",df_idf1.head(25))"
   ]
  },
  {
   "cell_type": "markdown",
   "metadata": {},
   "source": [
    "#### The top 20 most commonly used words by males are listed above"
   ]
  },
  {
   "cell_type": "markdown",
   "metadata": {},
   "source": [
    "#### Question 2 Part 2: To find the common words used by FEMALES <br> Using similar method "
   ]
  },
  {
   "cell_type": "code",
   "execution_count": 27,
   "metadata": {},
   "outputs": [
    {
     "name": "stdout",
     "output_type": "stream",
     "text": [
      "Top 25 most commonly used words used by females:          idf_weights\n",
      "im         3.441825\n",
      "like       3.803659\n",
      "get        4.004877\n",
      "one        4.076671\n",
      "love       4.092984\n",
      "day        4.164565\n",
      "dont       4.219025\n",
      "go         4.253184\n",
      "time       4.363275\n",
      "people     4.420940\n",
      "got        4.496806\n",
      "new        4.511695\n",
      "know       4.511695\n",
      "want       4.589656\n",
      "best       4.611515\n",
      "cant       4.628228\n",
      "back       4.692018\n",
      "still      4.741108\n",
      "good       4.741108\n",
      "see        4.747417\n",
      "amp        4.766587\n",
      "make       4.773059\n",
      "need       4.786132\n",
      "na         4.799377\n",
      "ive        4.819579\n"
     ]
    }
   ],
   "source": [
    "#We subset only those \"female\" rows\n",
    "dff=df2.loc[[\"female\"],[\"text\"]] #We subset only those \"female\" rows\n",
    "cv = CountVectorizer(stop_words=[\"i\", \"me\", \"my\", \"myself\", \"we\", \"our\", \"ours\", \"ourselves\", \"you\", \"your\", \"yours\", \"yourself\", \"yourselves\", \"he\", \"him\", \"his\", \"himself\", \"she\", \"her\", \"hers\", \"herself\", \"it\", \"its\", \"itself\", \"they\", \"them\", \"their\", \"theirs\", \"themselves\", \"what\", \"which\", \"who\", \"whom\", \"this\", \"that\", \"these\", \"those\", \"am\", \"is\", \"are\", \"was\", \"were\", \"be\", \"been\", \"being\", \"have\", \"has\", \"had\", \"having\", \"do\", \"does\", \"did\", \"doing\", \"a\", \"an\", \"the\", \"and\", \"but\", \"if\", \"or\", \"because\", \"as\", \"until\", \"while\", \"of\", \"at\", \"by\", \"for\", \"with\", \"about\", \"against\", \"between\", \"into\", \"through\", \"during\", \"before\", \"after\", \"above\", \"below\", \"to\", \"from\", \"up\", \"down\", \"in\", \"out\", \"on\", \"off\", \"over\", \"under\", \"again\", \"further\", \"then\", \"once\", \"here\", \"there\", \"when\", \"where\", \"why\", \"how\", \"all\", \"any\", \"both\", \"each\", \"few\", \"more\", \"most\", \"other\", \"some\", \"such\", \"no\", \"nor\", \"not\", \"only\", \"own\", \"same\", \"so\", \"than\", \"too\", \"very\", \"s\", \"t\", \"can\", \"will\", \"just\", \"don\", \"should\", \"now\"\"https\", \"co\", \"_ù\",])\n",
    "\n",
    "#make a list from dff, of text values\n",
    "listoftext=list(dff['text'])\n",
    "\n",
    "#count vectorize the list\n",
    "word_count_vector=cv.fit_transform(listoftext) \n",
    "\n",
    "#tf-idf transform\n",
    "tfidf_transformer=TfidfTransformer(smooth_idf=True,use_idf=True) \n",
    "tfidf_transformer.fit(word_count_vector) \n",
    "df_idf = pd.DataFrame(tfidf_transformer.idf_, index=cv.get_feature_names(),columns=[\"idf_weights\"]) \n",
    "\n",
    "#sort the values in ascending order, since commonly used words have lessweight\n",
    "df_idf2=df_idf.sort_values(by=['idf_weights'], ascending= True)\n",
    "print(\"Top 25 most commonly used words used by females: \",df_idf2.head(25))"
   ]
  },
  {
   "cell_type": "markdown",
   "metadata": {},
   "source": [
    "#### The top 20 most commonly used words by females are listed above"
   ]
  },
  {
   "cell_type": "markdown",
   "metadata": {},
   "source": [
    "### 1. Data Visualization using plots"
   ]
  },
  {
   "cell_type": "code",
   "execution_count": 28,
   "metadata": {},
   "outputs": [
    {
     "data": {
      "image/png": "[encoded data removed]",
      "text/plain": [
       "<Figure size 432x288 with 1 Axes>"
      ]
     },
     "metadata": {
      "needs_background": "light"
     },
     "output_type": "display_data"
    }
   ],
   "source": [
    "from matplotlib.pyplot import figure\n",
    "\n",
    "\n",
    "df_idf2.iloc[0:15].plot()\n",
    "plt.title(\"Common Words used by Females\")\n",
    "plt.xlabel(\"Words\")\n",
    "plt.ylabel(\"Weights\")\n",
    "plt.xticks(rotation=90)\n",
    "\n",
    "\n",
    "plt.gca().invert_yaxis()\n",
    "\n"
   ]
  },
  {
   "cell_type": "code",
   "execution_count": 29,
   "metadata": {},
   "outputs": [
    {
     "data": {
      "image/png": "[encoded data removed]",
      "text/plain": [
       "<Figure size 432x288 with 1 Axes>"
      ]
     },
     "metadata": {
      "needs_background": "light"
     },
     "output_type": "display_data"
    }
   ],
   "source": [
    "df_idf1.iloc[0:15].plot()\n",
    "plt.title(\"Common Words used by Males\")\n",
    "plt.xlabel(\"Words\")\n",
    "plt.ylabel(\"Weights\")\n",
    "plt.xticks(rotation=90)\n",
    "\n",
    "plt.gca().invert_yaxis()\n"
   ]
  },
  {
   "cell_type": "markdown",
   "metadata": {},
   "source": [
    "# Ensemble Machine learning Modelling (3 Classification Algorithms)"
   ]
  },
  {
   "cell_type": "code",
   "execution_count": 30,
   "metadata": {},
   "outputs": [],
   "source": [
    "import pandas as pd\n",
    "import numpy as np"
   ]
  },
  {
   "cell_type": "code",
   "execution_count": 31,
   "metadata": {},
   "outputs": [
    {
     "data": {
      "text/html": [
       "<div>\n",
       "<style scoped>\n",
       "    .dataframe tbody tr th:only-of-type {\n",
       "        vertical-align: middle;\n",
       "    }\n",
       "\n",
       "    .dataframe tbody tr th {\n",
       "        vertical-align: top;\n",
       "    }\n",
       "\n",
       "    .dataframe thead th {\n",
       "        text-align: right;\n",
       "    }\n",
       "</style>\n",
       "<table border=\"1\" class=\"dataframe\">\n",
       "  <thead>\n",
       "    <tr style=\"text-align: right;\">\n",
       "      <th></th>\n",
       "      <th>_golden</th>\n",
       "      <th>_unit_state</th>\n",
       "      <th>_trusted_judgments</th>\n",
       "      <th>_last_judgment_at</th>\n",
       "      <th>gender</th>\n",
       "      <th>gender:confidence</th>\n",
       "      <th>profile_yn</th>\n",
       "      <th>profile_yn:confidence</th>\n",
       "      <th>created</th>\n",
       "      <th>description</th>\n",
       "      <th>...</th>\n",
       "      <th>profileimage</th>\n",
       "      <th>retweet_count</th>\n",
       "      <th>sidebar_color</th>\n",
       "      <th>text</th>\n",
       "      <th>tweet_coord</th>\n",
       "      <th>tweet_count</th>\n",
       "      <th>tweet_created</th>\n",
       "      <th>tweet_id</th>\n",
       "      <th>tweet_location</th>\n",
       "      <th>user_timezone</th>\n",
       "    </tr>\n",
       "    <tr>\n",
       "      <th>_unit_id</th>\n",
       "      <th></th>\n",
       "      <th></th>\n",
       "      <th></th>\n",
       "      <th></th>\n",
       "      <th></th>\n",
       "      <th></th>\n",
       "      <th></th>\n",
       "      <th></th>\n",
       "      <th></th>\n",
       "      <th></th>\n",
       "      <th></th>\n",
       "      <th></th>\n",
       "      <th></th>\n",
       "      <th></th>\n",
       "      <th></th>\n",
       "      <th></th>\n",
       "      <th></th>\n",
       "      <th></th>\n",
       "      <th></th>\n",
       "      <th></th>\n",
       "      <th></th>\n",
       "    </tr>\n",
       "  </thead>\n",
       "  <tbody>\n",
       "    <tr>\n",
       "      <th>815719226</th>\n",
       "      <td>False</td>\n",
       "      <td>finalized</td>\n",
       "      <td>3</td>\n",
       "      <td>10/26/15 23:24</td>\n",
       "      <td>male</td>\n",
       "      <td>1.0000</td>\n",
       "      <td>yes</td>\n",
       "      <td>1.0</td>\n",
       "      <td>12/5/13 1:48</td>\n",
       "      <td>i sing my own rhythm.</td>\n",
       "      <td>...</td>\n",
       "      <td>https://pbs.twimg.com/profile_images/414342229...</td>\n",
       "      <td>0</td>\n",
       "      <td>FFFFFF</td>\n",
       "      <td>Robbie E Responds To Critics After Win Against...</td>\n",
       "      <td>NaN</td>\n",
       "      <td>110964</td>\n",
       "      <td>10/26/15 12:40</td>\n",
       "      <td>6.587300e+17</td>\n",
       "      <td>main; @Kan1shk3</td>\n",
       "      <td>Chennai</td>\n",
       "    </tr>\n",
       "    <tr>\n",
       "      <th>815719227</th>\n",
       "      <td>False</td>\n",
       "      <td>finalized</td>\n",
       "      <td>3</td>\n",
       "      <td>10/26/15 23:30</td>\n",
       "      <td>male</td>\n",
       "      <td>1.0000</td>\n",
       "      <td>yes</td>\n",
       "      <td>1.0</td>\n",
       "      <td>10/1/12 13:51</td>\n",
       "      <td>I'm the author of novels filled with family dr...</td>\n",
       "      <td>...</td>\n",
       "      <td>https://pbs.twimg.com/profile_images/539604221...</td>\n",
       "      <td>0</td>\n",
       "      <td>C0DEED</td>\n",
       "      <td>ÛÏIt felt like they were my friends and I was...</td>\n",
       "      <td>NaN</td>\n",
       "      <td>7471</td>\n",
       "      <td>10/26/15 12:40</td>\n",
       "      <td>6.587300e+17</td>\n",
       "      <td>NaN</td>\n",
       "      <td>Eastern Time (US &amp; Canada)</td>\n",
       "    </tr>\n",
       "    <tr>\n",
       "      <th>815719228</th>\n",
       "      <td>False</td>\n",
       "      <td>finalized</td>\n",
       "      <td>3</td>\n",
       "      <td>10/26/15 23:33</td>\n",
       "      <td>male</td>\n",
       "      <td>0.6625</td>\n",
       "      <td>yes</td>\n",
       "      <td>1.0</td>\n",
       "      <td>11/28/14 11:30</td>\n",
       "      <td>louis whining and squealing and all</td>\n",
       "      <td>...</td>\n",
       "      <td>https://pbs.twimg.com/profile_images/657330418...</td>\n",
       "      <td>1</td>\n",
       "      <td>C0DEED</td>\n",
       "      <td>i absolutely adore when louis starts the songs...</td>\n",
       "      <td>NaN</td>\n",
       "      <td>5617</td>\n",
       "      <td>10/26/15 12:40</td>\n",
       "      <td>6.587300e+17</td>\n",
       "      <td>clcncl</td>\n",
       "      <td>Belgrade</td>\n",
       "    </tr>\n",
       "    <tr>\n",
       "      <th>815719229</th>\n",
       "      <td>False</td>\n",
       "      <td>finalized</td>\n",
       "      <td>3</td>\n",
       "      <td>10/26/15 23:10</td>\n",
       "      <td>male</td>\n",
       "      <td>1.0000</td>\n",
       "      <td>yes</td>\n",
       "      <td>1.0</td>\n",
       "      <td>6/11/09 22:39</td>\n",
       "      <td>Mobile guy.  49ers, Shazam, Google, Kleiner Pe...</td>\n",
       "      <td>...</td>\n",
       "      <td>https://pbs.twimg.com/profile_images/259703936...</td>\n",
       "      <td>0</td>\n",
       "      <td>C0DEED</td>\n",
       "      <td>Hi @JordanSpieth - Looking at the url - do you...</td>\n",
       "      <td>NaN</td>\n",
       "      <td>1693</td>\n",
       "      <td>10/26/15 12:40</td>\n",
       "      <td>6.587300e+17</td>\n",
       "      <td>Palo Alto, CA</td>\n",
       "      <td>Pacific Time (US &amp; Canada)</td>\n",
       "    </tr>\n",
       "    <tr>\n",
       "      <th>815719230</th>\n",
       "      <td>False</td>\n",
       "      <td>finalized</td>\n",
       "      <td>3</td>\n",
       "      <td>10/27/15 1:15</td>\n",
       "      <td>female</td>\n",
       "      <td>1.0000</td>\n",
       "      <td>yes</td>\n",
       "      <td>1.0</td>\n",
       "      <td>4/16/14 13:23</td>\n",
       "      <td>Ricky Wilson The Best FRONTMAN/Kaiser Chiefs T...</td>\n",
       "      <td>...</td>\n",
       "      <td>https://pbs.twimg.com/profile_images/564094871...</td>\n",
       "      <td>0</td>\n",
       "      <td>0</td>\n",
       "      <td>Watching Neighbours on Sky+ catching up with t...</td>\n",
       "      <td>NaN</td>\n",
       "      <td>31462</td>\n",
       "      <td>10/26/15 12:40</td>\n",
       "      <td>6.587300e+17</td>\n",
       "      <td>NaN</td>\n",
       "      <td>NaN</td>\n",
       "    </tr>\n",
       "  </tbody>\n",
       "</table>\n",
       "<p>5 rows × 25 columns</p>\n",
       "</div>"
      ],
      "text/plain": [
       "           _golden _unit_state  _trusted_judgments _last_judgment_at  gender  \\\n",
       "_unit_id                                                                       \n",
       "815719226    False   finalized                   3    10/26/15 23:24    male   \n",
       "815719227    False   finalized                   3    10/26/15 23:30    male   \n",
       "815719228    False   finalized                   3    10/26/15 23:33    male   \n",
       "815719229    False   finalized                   3    10/26/15 23:10    male   \n",
       "815719230    False   finalized                   3     10/27/15 1:15  female   \n",
       "\n",
       "           gender:confidence profile_yn  profile_yn:confidence  \\\n",
       "_unit_id                                                         \n",
       "815719226             1.0000        yes                    1.0   \n",
       "815719227             1.0000        yes                    1.0   \n",
       "815719228             0.6625        yes                    1.0   \n",
       "815719229             1.0000        yes                    1.0   \n",
       "815719230             1.0000        yes                    1.0   \n",
       "\n",
       "                  created                                        description  \\\n",
       "_unit_id                                                                       \n",
       "815719226    12/5/13 1:48                              i sing my own rhythm.   \n",
       "815719227   10/1/12 13:51  I'm the author of novels filled with family dr...   \n",
       "815719228  11/28/14 11:30                louis whining and squealing and all   \n",
       "815719229   6/11/09 22:39  Mobile guy.  49ers, Shazam, Google, Kleiner Pe...   \n",
       "815719230   4/16/14 13:23  Ricky Wilson The Best FRONTMAN/Kaiser Chiefs T...   \n",
       "\n",
       "           ...                                       profileimage  \\\n",
       "_unit_id   ...                                                      \n",
       "815719226  ...  https://pbs.twimg.com/profile_images/414342229...   \n",
       "815719227  ...  https://pbs.twimg.com/profile_images/539604221...   \n",
       "815719228  ...  https://pbs.twimg.com/profile_images/657330418...   \n",
       "815719229  ...  https://pbs.twimg.com/profile_images/259703936...   \n",
       "815719230  ...  https://pbs.twimg.com/profile_images/564094871...   \n",
       "\n",
       "          retweet_count sidebar_color  \\\n",
       "_unit_id                                \n",
       "815719226             0        FFFFFF   \n",
       "815719227             0        C0DEED   \n",
       "815719228             1        C0DEED   \n",
       "815719229             0        C0DEED   \n",
       "815719230             0             0   \n",
       "\n",
       "                                                        text tweet_coord  \\\n",
       "_unit_id                                                                   \n",
       "815719226  Robbie E Responds To Critics After Win Against...         NaN   \n",
       "815719227  ÛÏIt felt like they were my friends and I was...         NaN   \n",
       "815719228  i absolutely adore when louis starts the songs...         NaN   \n",
       "815719229  Hi @JordanSpieth - Looking at the url - do you...         NaN   \n",
       "815719230  Watching Neighbours on Sky+ catching up with t...         NaN   \n",
       "\n",
       "          tweet_count   tweet_created      tweet_id   tweet_location  \\\n",
       "_unit_id                                                               \n",
       "815719226      110964  10/26/15 12:40  6.587300e+17  main; @Kan1shk3   \n",
       "815719227        7471  10/26/15 12:40  6.587300e+17              NaN   \n",
       "815719228        5617  10/26/15 12:40  6.587300e+17           clcncl   \n",
       "815719229        1693  10/26/15 12:40  6.587300e+17    Palo Alto, CA   \n",
       "815719230       31462  10/26/15 12:40  6.587300e+17              NaN   \n",
       "\n",
       "                        user_timezone  \n",
       "_unit_id                               \n",
       "815719226                     Chennai  \n",
       "815719227  Eastern Time (US & Canada)  \n",
       "815719228                    Belgrade  \n",
       "815719229  Pacific Time (US & Canada)  \n",
       "815719230                         NaN  \n",
       "\n",
       "[5 rows x 25 columns]"
      ]
     },
     "execution_count": 31,
     "metadata": {},
     "output_type": "execute_result"
    }
   ],
   "source": [
    "df=pd.read_csv(\"Information.csv\", encoding = \"ISO-8859-1\", index_col=0)\n",
    "df.head()"
   ]
  },
  {
   "cell_type": "code",
   "execution_count": 32,
   "metadata": {
    "scrolled": false
   },
   "outputs": [
    {
     "name": "stdout",
     "output_type": "stream",
     "text": [
      "<class 'pandas.core.frame.DataFrame'>\n",
      "Int64Index: 20050 entries, 815719226 to 815757985\n",
      "Data columns (total 25 columns):\n",
      " #   Column                 Non-Null Count  Dtype  \n",
      "---  ------                 --------------  -----  \n",
      " 0   _golden                20050 non-null  bool   \n",
      " 1   _unit_state            20050 non-null  object \n",
      " 2   _trusted_judgments     20050 non-null  int64  \n",
      " 3   _last_judgment_at      20000 non-null  object \n",
      " 4   gender                 19953 non-null  object \n",
      " 5   gender:confidence      20024 non-null  float64\n",
      " 6   profile_yn             20050 non-null  object \n",
      " 7   profile_yn:confidence  20050 non-null  float64\n",
      " 8   created                20050 non-null  object \n",
      " 9   description            16306 non-null  object \n",
      " 10  fav_number             20050 non-null  int64  \n",
      " 11  gender_gold            50 non-null     object \n",
      " 12  link_color             20050 non-null  object \n",
      " 13  name                   20050 non-null  object \n",
      " 14  profile_yn_gold        50 non-null     object \n",
      " 15  profileimage           20050 non-null  object \n",
      " 16  retweet_count          20050 non-null  int64  \n",
      " 17  sidebar_color          20050 non-null  object \n",
      " 18  text                   20050 non-null  object \n",
      " 19  tweet_coord            159 non-null    object \n",
      " 20  tweet_count            20050 non-null  int64  \n",
      " 21  tweet_created          20050 non-null  object \n",
      " 22  tweet_id               20050 non-null  float64\n",
      " 23  tweet_location         12566 non-null  object \n",
      " 24  user_timezone          12252 non-null  object \n",
      "dtypes: bool(1), float64(3), int64(4), object(17)\n",
      "memory usage: 3.8+ MB\n"
     ]
    }
   ],
   "source": [
    "df.info()"
   ]
  },
  {
   "cell_type": "code",
   "execution_count": 33,
   "metadata": {
    "scrolled": true
   },
   "outputs": [
    {
     "data": {
      "text/plain": [
       "Index(['_golden', '_unit_state', '_trusted_judgments', '_last_judgment_at',\n",
       "       'gender', 'gender:confidence', 'profile_yn', 'profile_yn:confidence',\n",
       "       'created', 'description', 'fav_number', 'gender_gold', 'link_color',\n",
       "       'name', 'profile_yn_gold', 'profileimage', 'retweet_count',\n",
       "       'sidebar_color', 'text', 'tweet_coord', 'tweet_count', 'tweet_created',\n",
       "       'tweet_id', 'tweet_location', 'user_timezone'],\n",
       "      dtype='object')"
      ]
     },
     "execution_count": 33,
     "metadata": {},
     "output_type": "execute_result"
    }
   ],
   "source": [
    "df.columns"
   ]
  },
  {
   "cell_type": "markdown",
   "metadata": {},
   "source": [
    "**Correlation Matrix Using Heatmap**"
   ]
  },
  {
   "cell_type": "code",
   "execution_count": 34,
   "metadata": {},
   "outputs": [
    {
     "data": {
      "text/plain": [
       "<matplotlib.axes._subplots.AxesSubplot at 0x1fda085fd30>"
      ]
     },
     "execution_count": 34,
     "metadata": {},
     "output_type": "execute_result"
    },
    {
     "data": {
      "image/png": "[encoded data removed]",
      "text/plain": [
       "<Figure size 1440x1080 with 2 Axes>"
      ]
     },
     "metadata": {
      "needs_background": "light"
     },
     "output_type": "display_data"
    }
   ],
   "source": [
    "import seaborn as sb\n",
    "import matplotlib.pyplot as plt\n",
    "plt.figure(figsize=(20,15))\n",
    "sb.heatmap(df.corr(), annot=True)"
   ]
  },
  {
   "cell_type": "markdown",
   "metadata": {},
   "source": [
    "**Feature engineering**"
   ]
  },
  {
   "cell_type": "code",
   "execution_count": 35,
   "metadata": {},
   "outputs": [
    {
     "data": {
      "text/html": [
       "<div>\n",
       "<style scoped>\n",
       "    .dataframe tbody tr th:only-of-type {\n",
       "        vertical-align: middle;\n",
       "    }\n",
       "\n",
       "    .dataframe tbody tr th {\n",
       "        vertical-align: top;\n",
       "    }\n",
       "\n",
       "    .dataframe thead th {\n",
       "        text-align: right;\n",
       "    }\n",
       "</style>\n",
       "<table border=\"1\" class=\"dataframe\">\n",
       "  <thead>\n",
       "    <tr style=\"text-align: right;\">\n",
       "      <th></th>\n",
       "      <th>_trusted_judgments</th>\n",
       "      <th>fav_number</th>\n",
       "      <th>retweet_count</th>\n",
       "      <th>tweet_count</th>\n",
       "    </tr>\n",
       "  </thead>\n",
       "  <tbody>\n",
       "    <tr>\n",
       "      <th>count</th>\n",
       "      <td>20050.000000</td>\n",
       "      <td>20050.000000</td>\n",
       "      <td>20050.000000</td>\n",
       "      <td>2.005000e+04</td>\n",
       "    </tr>\n",
       "    <tr>\n",
       "      <th>mean</th>\n",
       "      <td>3.615711</td>\n",
       "      <td>4382.201646</td>\n",
       "      <td>0.079401</td>\n",
       "      <td>3.892469e+04</td>\n",
       "    </tr>\n",
       "    <tr>\n",
       "      <th>std</th>\n",
       "      <td>12.331890</td>\n",
       "      <td>12518.575919</td>\n",
       "      <td>2.649751</td>\n",
       "      <td>1.168371e+05</td>\n",
       "    </tr>\n",
       "    <tr>\n",
       "      <th>min</th>\n",
       "      <td>3.000000</td>\n",
       "      <td>0.000000</td>\n",
       "      <td>0.000000</td>\n",
       "      <td>1.000000e+00</td>\n",
       "    </tr>\n",
       "    <tr>\n",
       "      <th>25%</th>\n",
       "      <td>3.000000</td>\n",
       "      <td>11.000000</td>\n",
       "      <td>0.000000</td>\n",
       "      <td>2.398000e+03</td>\n",
       "    </tr>\n",
       "    <tr>\n",
       "      <th>50%</th>\n",
       "      <td>3.000000</td>\n",
       "      <td>456.000000</td>\n",
       "      <td>0.000000</td>\n",
       "      <td>1.144150e+04</td>\n",
       "    </tr>\n",
       "    <tr>\n",
       "      <th>75%</th>\n",
       "      <td>3.000000</td>\n",
       "      <td>3315.500000</td>\n",
       "      <td>0.000000</td>\n",
       "      <td>4.002750e+04</td>\n",
       "    </tr>\n",
       "    <tr>\n",
       "      <th>max</th>\n",
       "      <td>274.000000</td>\n",
       "      <td>341621.000000</td>\n",
       "      <td>330.000000</td>\n",
       "      <td>2.680199e+06</td>\n",
       "    </tr>\n",
       "  </tbody>\n",
       "</table>\n",
       "</div>"
      ],
      "text/plain": [
       "       _trusted_judgments     fav_number  retweet_count   tweet_count\n",
       "count        20050.000000   20050.000000   20050.000000  2.005000e+04\n",
       "mean             3.615711    4382.201646       0.079401  3.892469e+04\n",
       "std             12.331890   12518.575919       2.649751  1.168371e+05\n",
       "min              3.000000       0.000000       0.000000  1.000000e+00\n",
       "25%              3.000000      11.000000       0.000000  2.398000e+03\n",
       "50%              3.000000     456.000000       0.000000  1.144150e+04\n",
       "75%              3.000000    3315.500000       0.000000  4.002750e+04\n",
       "max            274.000000  341621.000000     330.000000  2.680199e+06"
      ]
     },
     "execution_count": 35,
     "metadata": {},
     "output_type": "execute_result"
    }
   ],
   "source": [
    "df = df[['_trusted_judgments',\n",
    "       'gender', 'fav_number', 'retweet_count', 'tweet_count','_golden','sidebar_color',\n",
    "         'link_color','profile_yn','_unit_state']]\n",
    "df.describe()"
   ]
  },
  {
   "cell_type": "code",
   "execution_count": 36,
   "metadata": {},
   "outputs": [
    {
     "name": "stdout",
     "output_type": "stream",
     "text": [
      "<class 'pandas.core.frame.DataFrame'>\n",
      "Int64Index: 20050 entries, 815719226 to 815757985\n",
      "Data columns (total 10 columns):\n",
      " #   Column              Non-Null Count  Dtype \n",
      "---  ------              --------------  ----- \n",
      " 0   _trusted_judgments  20050 non-null  int64 \n",
      " 1   gender              19953 non-null  object\n",
      " 2   fav_number          20050 non-null  int64 \n",
      " 3   retweet_count       20050 non-null  int64 \n",
      " 4   tweet_count         20050 non-null  int64 \n",
      " 5   _golden             20050 non-null  bool  \n",
      " 6   sidebar_color       20050 non-null  object\n",
      " 7   link_color          20050 non-null  object\n",
      " 8   profile_yn          20050 non-null  object\n",
      " 9   _unit_state         20050 non-null  object\n",
      "dtypes: bool(1), int64(4), object(5)\n",
      "memory usage: 1.5+ MB\n"
     ]
    }
   ],
   "source": [
    "df.info() "
   ]
  },
  {
   "cell_type": "code",
   "execution_count": 37,
   "metadata": {},
   "outputs": [
    {
     "data": {
      "text/html": [
       "<div>\n",
       "<style scoped>\n",
       "    .dataframe tbody tr th:only-of-type {\n",
       "        vertical-align: middle;\n",
       "    }\n",
       "\n",
       "    .dataframe tbody tr th {\n",
       "        vertical-align: top;\n",
       "    }\n",
       "\n",
       "    .dataframe thead th {\n",
       "        text-align: right;\n",
       "    }\n",
       "</style>\n",
       "<table border=\"1\" class=\"dataframe\">\n",
       "  <thead>\n",
       "    <tr style=\"text-align: right;\">\n",
       "      <th></th>\n",
       "      <th>_trusted_judgments</th>\n",
       "      <th>fav_number</th>\n",
       "      <th>retweet_count</th>\n",
       "      <th>tweet_count</th>\n",
       "    </tr>\n",
       "  </thead>\n",
       "  <tbody>\n",
       "    <tr>\n",
       "      <th>count</th>\n",
       "      <td>20050.000000</td>\n",
       "      <td>20050.000000</td>\n",
       "      <td>20050.000000</td>\n",
       "      <td>2.005000e+04</td>\n",
       "    </tr>\n",
       "    <tr>\n",
       "      <th>mean</th>\n",
       "      <td>3.615711</td>\n",
       "      <td>4382.201646</td>\n",
       "      <td>0.079401</td>\n",
       "      <td>3.892469e+04</td>\n",
       "    </tr>\n",
       "    <tr>\n",
       "      <th>std</th>\n",
       "      <td>12.331890</td>\n",
       "      <td>12518.575919</td>\n",
       "      <td>2.649751</td>\n",
       "      <td>1.168371e+05</td>\n",
       "    </tr>\n",
       "    <tr>\n",
       "      <th>min</th>\n",
       "      <td>3.000000</td>\n",
       "      <td>0.000000</td>\n",
       "      <td>0.000000</td>\n",
       "      <td>1.000000e+00</td>\n",
       "    </tr>\n",
       "    <tr>\n",
       "      <th>25%</th>\n",
       "      <td>3.000000</td>\n",
       "      <td>11.000000</td>\n",
       "      <td>0.000000</td>\n",
       "      <td>2.398000e+03</td>\n",
       "    </tr>\n",
       "    <tr>\n",
       "      <th>50%</th>\n",
       "      <td>3.000000</td>\n",
       "      <td>456.000000</td>\n",
       "      <td>0.000000</td>\n",
       "      <td>1.144150e+04</td>\n",
       "    </tr>\n",
       "    <tr>\n",
       "      <th>75%</th>\n",
       "      <td>3.000000</td>\n",
       "      <td>3315.500000</td>\n",
       "      <td>0.000000</td>\n",
       "      <td>4.002750e+04</td>\n",
       "    </tr>\n",
       "    <tr>\n",
       "      <th>max</th>\n",
       "      <td>274.000000</td>\n",
       "      <td>341621.000000</td>\n",
       "      <td>330.000000</td>\n",
       "      <td>2.680199e+06</td>\n",
       "    </tr>\n",
       "  </tbody>\n",
       "</table>\n",
       "</div>"
      ],
      "text/plain": [
       "       _trusted_judgments     fav_number  retweet_count   tweet_count\n",
       "count        20050.000000   20050.000000   20050.000000  2.005000e+04\n",
       "mean             3.615711    4382.201646       0.079401  3.892469e+04\n",
       "std             12.331890   12518.575919       2.649751  1.168371e+05\n",
       "min              3.000000       0.000000       0.000000  1.000000e+00\n",
       "25%              3.000000      11.000000       0.000000  2.398000e+03\n",
       "50%              3.000000     456.000000       0.000000  1.144150e+04\n",
       "75%              3.000000    3315.500000       0.000000  4.002750e+04\n",
       "max            274.000000  341621.000000     330.000000  2.680199e+06"
      ]
     },
     "execution_count": 37,
     "metadata": {},
     "output_type": "execute_result"
    }
   ],
   "source": [
    "df.describe()"
   ]
  },
  {
   "cell_type": "code",
   "execution_count": 38,
   "metadata": {},
   "outputs": [
    {
     "data": {
      "text/plain": [
       "array(['male', 'female', 'brand', 'unknown', nan], dtype=object)"
      ]
     },
     "execution_count": 38,
     "metadata": {},
     "output_type": "execute_result"
    }
   ],
   "source": [
    "df['gender'].unique() #it's found there are uknown/other genders in the target column"
   ]
  },
  {
   "cell_type": "code",
   "execution_count": 39,
   "metadata": {},
   "outputs": [
    {
     "name": "stdout",
     "output_type": "stream",
     "text": [
      "<class 'pandas.core.frame.DataFrame'>\n",
      "Int64Index: 12894 entries, 815719226 to 815757985\n",
      "Data columns (total 10 columns):\n",
      " #   Column              Non-Null Count  Dtype \n",
      "---  ------              --------------  ----- \n",
      " 0   _trusted_judgments  12894 non-null  int64 \n",
      " 1   gender              12894 non-null  object\n",
      " 2   fav_number          12894 non-null  int64 \n",
      " 3   retweet_count       12894 non-null  int64 \n",
      " 4   tweet_count         12894 non-null  int64 \n",
      " 5   _golden             12894 non-null  bool  \n",
      " 6   sidebar_color       12894 non-null  object\n",
      " 7   link_color          12894 non-null  object\n",
      " 8   profile_yn          12894 non-null  object\n",
      " 9   _unit_state         12894 non-null  object\n",
      "dtypes: bool(1), int64(4), object(5)\n",
      "memory usage: 1019.9+ KB\n"
     ]
    },
    {
     "data": {
      "text/plain": [
       "array(['male', 'female'], dtype=object)"
      ]
     },
     "execution_count": 39,
     "metadata": {},
     "output_type": "execute_result"
    }
   ],
   "source": [
    "df['gender'].replace('brand', np.nan, inplace=True) #replaces with np.nan\n",
    "df['gender'].replace('unknown', np.nan, inplace=True) #replaces with np.nan\n",
    "df=df.dropna() #dropping np.nan values\n",
    "df.info() #now there is no missing values\n",
    "df['gender'].unique()"
   ]
  },
  {
   "cell_type": "code",
   "execution_count": 40,
   "metadata": {},
   "outputs": [
    {
     "name": "stdout",
     "output_type": "stream",
     "text": [
      "<class 'pandas.core.frame.DataFrame'>\n",
      "Int64Index: 12894 entries, 815719226 to 815757985\n",
      "Data columns (total 10 columns):\n",
      " #   Column              Non-Null Count  Dtype \n",
      "---  ------              --------------  ----- \n",
      " 0   _trusted_judgments  12894 non-null  int64 \n",
      " 1   gender              12894 non-null  object\n",
      " 2   fav_number          12894 non-null  int64 \n",
      " 3   retweet_count       12894 non-null  int64 \n",
      " 4   tweet_count         12894 non-null  int64 \n",
      " 5   _golden             12894 non-null  bool  \n",
      " 6   sidebar_color       12894 non-null  object\n",
      " 7   link_color          12894 non-null  object\n",
      " 8   profile_yn          12894 non-null  object\n",
      " 9   _unit_state         12894 non-null  object\n",
      "dtypes: bool(1), int64(4), object(5)\n",
      "memory usage: 1019.9+ KB\n"
     ]
    }
   ],
   "source": [
    "df.info() #now there is no missing values"
   ]
  },
  {
   "cell_type": "markdown",
   "metadata": {},
   "source": [
    "**Label Encoding**"
   ]
  },
  {
   "cell_type": "code",
   "execution_count": 41,
   "metadata": {},
   "outputs": [
    {
     "data": {
      "text/plain": [
       "array([0, 1], dtype=int64)"
      ]
     },
     "execution_count": 41,
     "metadata": {},
     "output_type": "execute_result"
    }
   ],
   "source": [
    "from sklearn.preprocessing import LabelEncoder\n",
    "le = LabelEncoder()\n",
    "df['_golden'] = le.fit_transform(df['_golden'])\n",
    "df['sidebar_color'] = le.fit_transform(df['sidebar_color'])\n",
    "df['link_color'] = le.fit_transform(df['link_color'])\n",
    "df['profile_yn'] = le.fit_transform(df['profile_yn'])\n",
    "df['_unit_state'] = le.fit_transform(df['_unit_state'])\n",
    "df['gender'].replace('female', 1, inplace=True) #replaces with np.nan\n",
    "df['gender'].replace('male', 0, inplace=True) #replaces with np.nan\n",
    "df['gender'].unique()"
   ]
  },
  {
   "cell_type": "code",
   "execution_count": 42,
   "metadata": {},
   "outputs": [
    {
     "data": {
      "text/html": [
       "<div>\n",
       "<style scoped>\n",
       "    .dataframe tbody tr th:only-of-type {\n",
       "        vertical-align: middle;\n",
       "    }\n",
       "\n",
       "    .dataframe tbody tr th {\n",
       "        vertical-align: top;\n",
       "    }\n",
       "\n",
       "    .dataframe thead th {\n",
       "        text-align: right;\n",
       "    }\n",
       "</style>\n",
       "<table border=\"1\" class=\"dataframe\">\n",
       "  <thead>\n",
       "    <tr style=\"text-align: right;\">\n",
       "      <th></th>\n",
       "      <th>_trusted_judgments</th>\n",
       "      <th>gender</th>\n",
       "      <th>fav_number</th>\n",
       "      <th>retweet_count</th>\n",
       "      <th>tweet_count</th>\n",
       "      <th>_golden</th>\n",
       "      <th>sidebar_color</th>\n",
       "      <th>link_color</th>\n",
       "      <th>profile_yn</th>\n",
       "      <th>_unit_state</th>\n",
       "    </tr>\n",
       "    <tr>\n",
       "      <th>_unit_id</th>\n",
       "      <th></th>\n",
       "      <th></th>\n",
       "      <th></th>\n",
       "      <th></th>\n",
       "      <th></th>\n",
       "      <th></th>\n",
       "      <th></th>\n",
       "      <th></th>\n",
       "      <th></th>\n",
       "      <th></th>\n",
       "    </tr>\n",
       "  </thead>\n",
       "  <tbody>\n",
       "    <tr>\n",
       "      <th>815719226</th>\n",
       "      <td>3</td>\n",
       "      <td>0</td>\n",
       "      <td>0</td>\n",
       "      <td>0</td>\n",
       "      <td>110964</td>\n",
       "      <td>0</td>\n",
       "      <td>418</td>\n",
       "      <td>165</td>\n",
       "      <td>0</td>\n",
       "      <td>0</td>\n",
       "    </tr>\n",
       "    <tr>\n",
       "      <th>815719227</th>\n",
       "      <td>3</td>\n",
       "      <td>0</td>\n",
       "      <td>68</td>\n",
       "      <td>0</td>\n",
       "      <td>7471</td>\n",
       "      <td>0</td>\n",
       "      <td>271</td>\n",
       "      <td>51</td>\n",
       "      <td>0</td>\n",
       "      <td>0</td>\n",
       "    </tr>\n",
       "    <tr>\n",
       "      <th>815719228</th>\n",
       "      <td>3</td>\n",
       "      <td>0</td>\n",
       "      <td>7696</td>\n",
       "      <td>1</td>\n",
       "      <td>5617</td>\n",
       "      <td>0</td>\n",
       "      <td>271</td>\n",
       "      <td>1417</td>\n",
       "      <td>0</td>\n",
       "      <td>0</td>\n",
       "    </tr>\n",
       "    <tr>\n",
       "      <th>815719229</th>\n",
       "      <td>3</td>\n",
       "      <td>0</td>\n",
       "      <td>202</td>\n",
       "      <td>0</td>\n",
       "      <td>1693</td>\n",
       "      <td>0</td>\n",
       "      <td>271</td>\n",
       "      <td>51</td>\n",
       "      <td>0</td>\n",
       "      <td>0</td>\n",
       "    </tr>\n",
       "    <tr>\n",
       "      <th>815719230</th>\n",
       "      <td>3</td>\n",
       "      <td>1</td>\n",
       "      <td>37318</td>\n",
       "      <td>0</td>\n",
       "      <td>31462</td>\n",
       "      <td>0</td>\n",
       "      <td>0</td>\n",
       "      <td>701</td>\n",
       "      <td>0</td>\n",
       "      <td>0</td>\n",
       "    </tr>\n",
       "  </tbody>\n",
       "</table>\n",
       "</div>"
      ],
      "text/plain": [
       "           _trusted_judgments  gender  fav_number  retweet_count  tweet_count  \\\n",
       "_unit_id                                                                        \n",
       "815719226                   3       0           0              0       110964   \n",
       "815719227                   3       0          68              0         7471   \n",
       "815719228                   3       0        7696              1         5617   \n",
       "815719229                   3       0         202              0         1693   \n",
       "815719230                   3       1       37318              0        31462   \n",
       "\n",
       "           _golden  sidebar_color  link_color  profile_yn  _unit_state  \n",
       "_unit_id                                                                \n",
       "815719226        0            418         165           0            0  \n",
       "815719227        0            271          51           0            0  \n",
       "815719228        0            271        1417           0            0  \n",
       "815719229        0            271          51           0            0  \n",
       "815719230        0              0         701           0            0  "
      ]
     },
     "execution_count": 42,
     "metadata": {},
     "output_type": "execute_result"
    }
   ],
   "source": [
    "df.head()"
   ]
  },
  {
   "cell_type": "code",
   "execution_count": 43,
   "metadata": {},
   "outputs": [
    {
     "name": "stdout",
     "output_type": "stream",
     "text": [
      "<class 'pandas.core.frame.DataFrame'>\n",
      "Int64Index: 12474 entries, 815719226 to 815757985\n",
      "Data columns (total 10 columns):\n",
      " #   Column              Non-Null Count  Dtype\n",
      "---  ------              --------------  -----\n",
      " 0   _trusted_judgments  12474 non-null  int64\n",
      " 1   gender              12474 non-null  int64\n",
      " 2   fav_number          12474 non-null  int64\n",
      " 3   retweet_count       12474 non-null  int64\n",
      " 4   tweet_count         12474 non-null  int64\n",
      " 5   _golden             12474 non-null  int64\n",
      " 6   sidebar_color       12474 non-null  int32\n",
      " 7   link_color          12474 non-null  int32\n",
      " 8   profile_yn          12474 non-null  int32\n",
      " 9   _unit_state         12474 non-null  int32\n",
      "dtypes: int32(4), int64(6)\n",
      "memory usage: 877.1 KB\n"
     ]
    }
   ],
   "source": [
    "df = df.drop_duplicates() #remove duplicates\n",
    "df.info() "
   ]
  },
  {
   "cell_type": "markdown",
   "metadata": {},
   "source": [
    "**Removing outliers**"
   ]
  },
  {
   "cell_type": "code",
   "execution_count": 44,
   "metadata": {},
   "outputs": [
    {
     "data": {
      "text/plain": [
       "<matplotlib.axes._subplots.AxesSubplot at 0x1fda148c0a0>"
      ]
     },
     "execution_count": 44,
     "metadata": {},
     "output_type": "execute_result"
    },
    {
     "data": {
      "image/png": "[encoded data removed]",
      "text/plain": [
       "<Figure size 432x288 with 1 Axes>"
      ]
     },
     "metadata": {
      "needs_background": "light"
     },
     "output_type": "display_data"
    }
   ],
   "source": [
    "sb.boxplot(df['retweet_count'])"
   ]
  },
  {
   "cell_type": "code",
   "execution_count": 45,
   "metadata": {},
   "outputs": [
    {
     "data": {
      "text/plain": [
       "4"
      ]
     },
     "execution_count": 45,
     "metadata": {},
     "output_type": "execute_result"
    }
   ],
   "source": [
    "len(df[df['retweet_count']>20])"
   ]
  },
  {
   "cell_type": "code",
   "execution_count": 46,
   "metadata": {},
   "outputs": [],
   "source": [
    "df = df[df['retweet_count']<20] #removing outliers"
   ]
  },
  {
   "cell_type": "code",
   "execution_count": 47,
   "metadata": {},
   "outputs": [
    {
     "data": {
      "text/plain": [
       "<matplotlib.axes._subplots.AxesSubplot at 0x1fda14bf130>"
      ]
     },
     "execution_count": 47,
     "metadata": {},
     "output_type": "execute_result"
    },
    {
     "data": {
      "image/png": "[encoded data removed]",
      "text/plain": [
       "<Figure size 432x288 with 1 Axes>"
      ]
     },
     "metadata": {
      "needs_background": "light"
     },
     "output_type": "display_data"
    }
   ],
   "source": [
    "sb.boxplot(df['tweet_count'])"
   ]
  },
  {
   "cell_type": "code",
   "execution_count": 48,
   "metadata": {},
   "outputs": [
    {
     "data": {
      "text/plain": [
       "34"
      ]
     },
     "execution_count": 48,
     "metadata": {},
     "output_type": "execute_result"
    }
   ],
   "source": [
    "len(df[df['tweet_count']>500000]) #le6 = 10^6 so, 1.5*le6 = 1500000"
   ]
  },
  {
   "cell_type": "code",
   "execution_count": 49,
   "metadata": {},
   "outputs": [],
   "source": [
    "df = df[df['tweet_count']<500000] #removing outliers"
   ]
  },
  {
   "cell_type": "code",
   "execution_count": 50,
   "metadata": {},
   "outputs": [
    {
     "name": "stdout",
     "output_type": "stream",
     "text": [
      "<class 'pandas.core.frame.DataFrame'>\n",
      "Int64Index: 12434 entries, 815719226 to 815757985\n",
      "Data columns (total 10 columns):\n",
      " #   Column              Non-Null Count  Dtype\n",
      "---  ------              --------------  -----\n",
      " 0   _trusted_judgments  12434 non-null  int64\n",
      " 1   gender              12434 non-null  int64\n",
      " 2   fav_number          12434 non-null  int64\n",
      " 3   retweet_count       12434 non-null  int64\n",
      " 4   tweet_count         12434 non-null  int64\n",
      " 5   _golden             12434 non-null  int64\n",
      " 6   sidebar_color       12434 non-null  int32\n",
      " 7   link_color          12434 non-null  int32\n",
      " 8   profile_yn          12434 non-null  int32\n",
      " 9   _unit_state         12434 non-null  int32\n",
      "dtypes: int32(4), int64(6)\n",
      "memory usage: 874.3 KB\n"
     ]
    }
   ],
   "source": [
    "df.info()"
   ]
  },
  {
   "cell_type": "code",
   "execution_count": 51,
   "metadata": {},
   "outputs": [
    {
     "data": {
      "text/plain": [
       "Index(['_trusted_judgments', 'gender', 'fav_number', 'retweet_count',\n",
       "       'tweet_count', '_golden', 'sidebar_color', 'link_color', 'profile_yn',\n",
       "       '_unit_state'],\n",
       "      dtype='object')"
      ]
     },
     "execution_count": 51,
     "metadata": {},
     "output_type": "execute_result"
    }
   ],
   "source": [
    "df.columns"
   ]
  },
  {
   "cell_type": "markdown",
   "metadata": {},
   "source": [
    "# Accuracy calculation "
   ]
  },
  {
   "cell_type": "markdown",
   "metadata": {},
   "source": [
    "### Classification-1 (Logistic Regression)"
   ]
  },
  {
   "cell_type": "code",
   "execution_count": 52,
   "metadata": {},
   "outputs": [],
   "source": [
    "X = df[['_trusted_judgments', 'fav_number', 'retweet_count',\n",
    "       'tweet_count']].values\n",
    "Y = df[['gender']].values"
   ]
  },
  {
   "cell_type": "code",
   "execution_count": 53,
   "metadata": {},
   "outputs": [],
   "source": [
    "from sklearn.model_selection import train_test_split"
   ]
  },
  {
   "cell_type": "code",
   "execution_count": 54,
   "metadata": {},
   "outputs": [],
   "source": [
    "X_train, X_test, Y_train, Y_test = train_test_split(X, Y, test_size=0.10)"
   ]
  },
  {
   "cell_type": "code",
   "execution_count": 55,
   "metadata": {},
   "outputs": [
    {
     "data": {
      "text/plain": [
       "((11190, 4), (1244, 4), (11190, 1), (1244, 1))"
      ]
     },
     "execution_count": 55,
     "metadata": {},
     "output_type": "execute_result"
    }
   ],
   "source": [
    "X_train.shape, X_test.shape, Y_train.shape, Y_test.shape"
   ]
  },
  {
   "cell_type": "code",
   "execution_count": 56,
   "metadata": {},
   "outputs": [],
   "source": [
    "from sklearn.linear_model import LogisticRegression  "
   ]
  },
  {
   "cell_type": "code",
   "execution_count": 57,
   "metadata": {},
   "outputs": [],
   "source": [
    "lr = LogisticRegression()"
   ]
  },
  {
   "cell_type": "code",
   "execution_count": 58,
   "metadata": {},
   "outputs": [
    {
     "name": "stderr",
     "output_type": "stream",
     "text": [
      "C:\\ProgramData\\Anaconda3\\lib\\site-packages\\sklearn\\utils\\validation.py:73: DataConversionWarning: A column-vector y was passed when a 1d array was expected. Please change the shape of y to (n_samples, ), for example using ravel().\n",
      "  return f(**kwargs)\n"
     ]
    },
    {
     "data": {
      "text/plain": [
       "LogisticRegression()"
      ]
     },
     "execution_count": 58,
     "metadata": {},
     "output_type": "execute_result"
    }
   ],
   "source": [
    "lr.fit(X_train, Y_train)"
   ]
  },
  {
   "cell_type": "code",
   "execution_count": 59,
   "metadata": {},
   "outputs": [],
   "source": [
    "y_pred = lr.predict(X_test)"
   ]
  },
  {
   "cell_type": "code",
   "execution_count": 60,
   "metadata": {},
   "outputs": [],
   "source": [
    "from sklearn.metrics import accuracy_score"
   ]
  },
  {
   "cell_type": "code",
   "execution_count": 61,
   "metadata": {},
   "outputs": [
    {
     "data": {
      "text/plain": [
       "0.542604501607717"
      ]
     },
     "execution_count": 61,
     "metadata": {},
     "output_type": "execute_result"
    }
   ],
   "source": [
    "accuracy_score(y_pred, Y_test)"
   ]
  },
  {
   "cell_type": "markdown",
   "metadata": {},
   "source": [
    "### Classification-2 (Random Forest)"
   ]
  },
  {
   "cell_type": "code",
   "execution_count": 62,
   "metadata": {},
   "outputs": [],
   "source": [
    "from sklearn.ensemble import RandomForestClassifier"
   ]
  },
  {
   "cell_type": "code",
   "execution_count": 63,
   "metadata": {},
   "outputs": [],
   "source": [
    "rmc = RandomForestClassifier()"
   ]
  },
  {
   "cell_type": "code",
   "execution_count": 64,
   "metadata": {},
   "outputs": [
    {
     "name": "stderr",
     "output_type": "stream",
     "text": [
      "<ipython-input-64-da5155fe0e11>:1: DataConversionWarning: A column-vector y was passed when a 1d array was expected. Please change the shape of y to (n_samples,), for example using ravel().\n",
      "  rmc.fit(X_train, Y_train)\n"
     ]
    },
    {
     "data": {
      "text/plain": [
       "RandomForestClassifier()"
      ]
     },
     "execution_count": 64,
     "metadata": {},
     "output_type": "execute_result"
    }
   ],
   "source": [
    "rmc.fit(X_train, Y_train)"
   ]
  },
  {
   "cell_type": "code",
   "execution_count": 65,
   "metadata": {},
   "outputs": [],
   "source": [
    "Y_pred = rmc.predict(X_test)"
   ]
  },
  {
   "cell_type": "code",
   "execution_count": 66,
   "metadata": {},
   "outputs": [
    {
     "data": {
      "text/plain": [
       "0.5120578778135049"
      ]
     },
     "execution_count": 66,
     "metadata": {},
     "output_type": "execute_result"
    }
   ],
   "source": [
    "accuracy_score(Y_pred, Y_test)"
   ]
  },
  {
   "cell_type": "markdown",
   "metadata": {},
   "source": [
    "### Classification-3 (SVM)"
   ]
  },
  {
   "cell_type": "code",
   "execution_count": 67,
   "metadata": {},
   "outputs": [],
   "source": [
    "from sklearn.svm import SVC\n",
    "svc = SVC()"
   ]
  },
  {
   "cell_type": "code",
   "execution_count": 68,
   "metadata": {},
   "outputs": [
    {
     "name": "stderr",
     "output_type": "stream",
     "text": [
      "C:\\ProgramData\\Anaconda3\\lib\\site-packages\\sklearn\\utils\\validation.py:73: DataConversionWarning: A column-vector y was passed when a 1d array was expected. Please change the shape of y to (n_samples, ), for example using ravel().\n",
      "  return f(**kwargs)\n"
     ]
    },
    {
     "data": {
      "text/plain": [
       "SVC()"
      ]
     },
     "execution_count": 68,
     "metadata": {},
     "output_type": "execute_result"
    }
   ],
   "source": [
    "svc.fit(X_train, Y_train)"
   ]
  },
  {
   "cell_type": "code",
   "execution_count": 69,
   "metadata": {},
   "outputs": [],
   "source": [
    "Y_pred = svc.predict(X_test)"
   ]
  },
  {
   "cell_type": "code",
   "execution_count": 70,
   "metadata": {},
   "outputs": [
    {
     "data": {
      "text/plain": [
       "0.5032154340836013"
      ]
     },
     "execution_count": 70,
     "metadata": {},
     "output_type": "execute_result"
    }
   ],
   "source": [
    "accuracy_score(Y_pred, Y_test)"
   ]
  },
  {
   "cell_type": "markdown",
   "metadata": {},
   "source": [
    "# Summarised write up at the end \n",
    "\n",
    "For the two questions baded on the dataset: <br>\n",
    "\n",
    "Q1) What are the most common emotions/words used by Males and Females? <br> \n",
    "Q2) Which gender makes more typos in their tweets?\n",
    " \n",
    " Answers: \n",
    " >1. (In descending order)\n",
    "     Common words used by males: get, like, one, time, new <br>\n",
    "     Common words used by females: like, get, one, love, day <br> \n",
    " >2.  Males make more typos\n",
    "\n",
    "1)Logistic Regression ~ 56% \n",
    "\n",
    "2)Random Forest ~ 53% \n",
    "\n",
    "3)SVM ~ 52% \n",
    "\n",
    "SO, Logistic Regression is best here!!!"
   ]
  }
 ],
 "metadata": {
  "kernelspec": {
   "display_name": "Python 3",
   "language": "python",
   "name": "python3"
  },
  "language_info": {
   "codemirror_mode": {
    "name": "ipython",
    "version": 3
   },
   "file_extension": ".py",
   "mimetype": "text/x-python",
   "name": "python",
   "nbconvert_exporter": "python",
   "pygments_lexer": "ipython3",
   "version": "3.8.3"
  }
 },
 "nbformat": 4,
 "nbformat_minor": 4
}
